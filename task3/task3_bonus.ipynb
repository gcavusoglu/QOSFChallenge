{
 "cells": [
  {
   "cell_type": "code",
   "execution_count": null,
   "metadata": {},
   "outputs": [
    {
     "data": {
      "text/html": [
       "<pre style=\"word-wrap: normal;white-space: pre;background: #fff0;line-height: 1.1;font-family: &quot;Courier New&quot;,Courier,monospace\">     ┌───┐┌─────────┐┌───────────┐┌─────────┐┌───────────┐┌─────────┐»\n",
       "q_0: ┤ H ├┤0        ├┤0          ├┤0        ├┤0          ├┤0        ├»\n",
       "     ├───┤│         ││           ││         ││           ││         │»\n",
       "q_1: ┤ H ├┤1        ├┤1          ├┤1        ├┤1          ├┤1        ├»\n",
       "     ├───┤│         ││           ││         ││           ││         │»\n",
       "q_2: ┤ H ├┤2        ├┤2          ├┤2        ├┤2          ├┤2        ├»\n",
       "     ├───┤│  Oracle ││  Diffuser ││  Oracle ││  Diffuser ││  Oracle │»\n",
       "q_3: ┤ H ├┤3        ├┤3          ├┤3        ├┤3          ├┤3        ├»\n",
       "     ├───┤│         ││           ││         ││           ││         │»\n",
       "q_4: ┤ H ├┤4        ├┤4          ├┤4        ├┤4          ├┤4        ├»\n",
       "     ├───┤│         ││           ││         ││           ││         │»\n",
       "q_5: ┤ H ├┤5        ├┤5          ├┤5        ├┤5          ├┤5        ├»\n",
       "     └───┘└─────────┘└───────────┘└─────────┘└───────────┘└─────────┘»\n",
       "c: 5/════════════════════════════════════════════════════════════════»\n",
       "                                                                     »\n",
       "«     ┌───────────┐┌─┐            \n",
       "«q_0: ┤0          ├┤M├────────────\n",
       "«     │           │└╥┘┌─┐         \n",
       "«q_1: ┤1          ├─╫─┤M├─────────\n",
       "«     │           │ ║ └╥┘┌─┐      \n",
       "«q_2: ┤2          ├─╫──╫─┤M├──────\n",
       "«     │  Diffuser │ ║  ║ └╥┘┌─┐   \n",
       "«q_3: ┤3          ├─╫──╫──╫─┤M├───\n",
       "«     │           │ ║  ║  ║ └╥┘┌─┐\n",
       "«q_4: ┤4          ├─╫──╫──╫──╫─┤M├\n",
       "«     │           │ ║  ║  ║  ║ └╥┘\n",
       "«q_5: ┤5          ├─╫──╫──╫──╫──╫─\n",
       "«     └───────────┘ ║  ║  ║  ║  ║ \n",
       "«c: 5/══════════════╩══╩══╩══╩══╩═\n",
       "«                   0  1  2  3  4 </pre>"
      ],
      "text/plain": [
       "     ┌───┐┌─────────┐┌───────────┐┌─────────┐┌───────────┐┌─────────┐»\n",
       "q_0: ┤ H ├┤0        ├┤0          ├┤0        ├┤0          ├┤0        ├»\n",
       "     ├───┤│         ││           ││         ││           ││         │»\n",
       "q_1: ┤ H ├┤1        ├┤1          ├┤1        ├┤1          ├┤1        ├»\n",
       "     ├───┤│         ││           ││         ││           ││         │»\n",
       "q_2: ┤ H ├┤2        ├┤2          ├┤2        ├┤2          ├┤2        ├»\n",
       "     ├───┤│  Oracle ││  Diffuser ││  Oracle ││  Diffuser ││  Oracle │»\n",
       "q_3: ┤ H ├┤3        ├┤3          ├┤3        ├┤3          ├┤3        ├»\n",
       "     ├───┤│         ││           ││         ││           ││         │»\n",
       "q_4: ┤ H ├┤4        ├┤4          ├┤4        ├┤4          ├┤4        ├»\n",
       "     ├───┤│         ││           ││         ││           ││         │»\n",
       "q_5: ┤ H ├┤5        ├┤5          ├┤5        ├┤5          ├┤5        ├»\n",
       "     └───┘└─────────┘└───────────┘└─────────┘└───────────┘└─────────┘»\n",
       "c: 5/════════════════════════════════════════════════════════════════»\n",
       "                                                                     »\n",
       "«     ┌───────────┐┌─┐            \n",
       "«q_0: ┤0          ├┤M├────────────\n",
       "«     │           │└╥┘┌─┐         \n",
       "«q_1: ┤1          ├─╫─┤M├─────────\n",
       "«     │           │ ║ └╥┘┌─┐      \n",
       "«q_2: ┤2          ├─╫──╫─┤M├──────\n",
       "«     │  Diffuser │ ║  ║ └╥┘┌─┐   \n",
       "«q_3: ┤3          ├─╫──╫──╫─┤M├───\n",
       "«     │           │ ║  ║  ║ └╥┘┌─┐\n",
       "«q_4: ┤4          ├─╫──╫──╫──╫─┤M├\n",
       "«     │           │ ║  ║  ║  ║ └╥┘\n",
       "«q_5: ┤5          ├─╫──╫──╫──╫──╫─\n",
       "«     └───────────┘ ║  ║  ║  ║  ║ \n",
       "«c: 5/══════════════╩══╩══╩══╩══╩═\n",
       "«                   0  1  2  3  4 "
      ]
     },
     "execution_count": 17,
     "metadata": {},
     "output_type": "execute_result"
    }
   ],
   "source": [
    "from qiskit.circuit import classical_function, Int1\n",
    "from qiskit.quantum_info import Operator\n",
    "from qiskit import QuantumCircuit\n",
    "\n",
    "NUMBER_OF_BITS = 6\n",
    "INDEX_OF_ALL_BITS = range(NUMBER_OF_BITS)\n",
    "NUMBER_OF_ROUNDS = 3\n",
    "\n",
    "@classical_function\n",
    "def bitoracle(x1: Int1, x2: Int1, x3: Int1, x4: Int1, x5: Int1) -> Int1:\n",
    "    return (not x5 and not x4 and x3 and not x2 and x1) or (not x5 and not x4 and x3 and x2 and not x1) \\\n",
    "        or (not x5 and x4 and x3 and not x2 and not x1) or (x5 and not x4 and not x3 and not x2 and x1) \\\n",
    "        or (x5 and not x4 and x3 and not x2 and not x1) or (x5 and x4 and not x3 and not x2 and not x1)\n",
    "\n",
    "def phaseOracle():\n",
    "    phaseoracle = QuantumCircuit(NUMBER_OF_BITS)\n",
    "    phaseoracle.x(5)\n",
    "    phaseoracle.h(5)\n",
    "    \n",
    "    bitcircuit = bitoracle.synth()\n",
    "    phaseoracle.compose(bitcircuit, inplace=True)\n",
    "    \n",
    "    phaseoracle.h(5)\n",
    "    phaseoracle.x(5)\n",
    "    oracle = phaseoracle.to_gate()\n",
    "    oracle.name = \"Oracle\"\n",
    "    \n",
    "    return oracle\n",
    "\n",
    "def diffuser(nqubits):\n",
    "    qc = QuantumCircuit(nqubits)\n",
    "    # Apply transformation |s> -> |00..0> (H-gates)\n",
    "    for qubit in range(nqubits):\n",
    "        qc.h(qubit)\n",
    "    # Apply transformation |00..0> -> |11..1> (X-gates)\n",
    "    for qubit in range(nqubits):\n",
    "        qc.x(qubit)\n",
    "    # Do multi-controlled-Z gate\n",
    "    qc.h(nqubits-1)\n",
    "    qc.mct(list(range(nqubits-1)), nqubits-1)  # multi-controlled-toffoli\n",
    "    qc.h(nqubits-1)\n",
    "    # Apply transformation |11..1> -> |00..0>\n",
    "    for qubit in range(nqubits):\n",
    "        qc.x(qubit)\n",
    "    # Apply transformation |00..0> -> |s>\n",
    "    for qubit in range(nqubits):\n",
    "        qc.h(qubit)\n",
    "    # We will return the diffuser as a gate\n",
    "    U_s = qc.to_gate()\n",
    "    U_s.name = \"Diffuser\"\n",
    "    return U_s\n",
    "\n",
    "# Construct the circuit    \n",
    "grover_circuit = QuantumCircuit(NUMBER_OF_BITS, NUMBER_OF_BITS-1)\n",
    "\n",
    "for i in INDEX_OF_ALL_BITS:\n",
    "    grover_circuit.h(i)\n",
    "\n",
    "theOracle = phaseOracle()\n",
    "theDiffuser = diffuser(NUMBER_OF_BITS)\n",
    "for _ in range(NUMBER_OF_ROUNDS):\n",
    "    grover_circuit.append(theOracle, INDEX_OF_ALL_BITS)\n",
    "    grover_circuit.append(theDiffuser, INDEX_OF_ALL_BITS)\n",
    "\n",
    "grover_circuit.measure([0,1,2,3,4], [0,1,2,3,4])\n",
    "grover_circuit.draw()"
   ]
  },
  {
   "cell_type": "code",
   "execution_count": 18,
   "metadata": {},
   "outputs": [
    {
     "data": {
      "image/png": "[encoded data removed]",
      "text/plain": [
       "<Figure size 504x360 with 1 Axes>"
      ]
     },
     "execution_count": 18,
     "metadata": {},
     "output_type": "execute_result"
    }
   ],
   "source": [
    "from qiskit import Aer, execute\n",
    "simulator = Aer.get_backend('qasm_simulator')\n",
    "counts = execute(grover_circuit, backend=simulator, shots=1000).result().get_counts(grover_circuit)\n",
    "from qiskit.visualization import plot_histogram\n",
    "plot_histogram(counts)"
   ]
  },
  {
   "cell_type": "code",
   "execution_count": null,
   "metadata": {},
   "outputs": [],
   "source": []
  }
 ],
 "metadata": {
  "kernelspec": {
   "display_name": "Python 3",
   "language": "python",
   "name": "python3"
  },
  "language_info": {
   "codemirror_mode": {
    "name": "ipython",
    "version": 3
   },
   "file_extension": ".py",
   "mimetype": "text/x-python",
   "name": "python",
   "nbconvert_exporter": "python",
   "pygments_lexer": "ipython3",
   "version": "3.7.3"
  }
 },
 "nbformat": 4,
 "nbformat_minor": 1
}
