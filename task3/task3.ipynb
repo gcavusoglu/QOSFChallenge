{
 "cells": [
  {
   "cell_type": "code",
   "execution_count": null,
   "metadata": {},
   "outputs": [
    {
     "data": {
      "text/html": [
       "<pre style=\"word-wrap: normal;white-space: pre;background: #fff0;line-height: 1.1;font-family: &quot;Courier New&quot;,Courier,monospace\">        ┌───┐┌─────────┐┌───────────┐┌─────────┐┌───────────┐ ░ ┌─┐         \n",
       "   q_0: ┤ H ├┤0        ├┤0          ├┤0        ├┤0          ├─░─┤M├─────────\n",
       "        ├───┤│         ││           ││         ││           │ ░ └╥┘┌─┐      \n",
       "   q_1: ┤ H ├┤1        ├┤1          ├┤1        ├┤1          ├─░──╫─┤M├──────\n",
       "        ├───┤│  Oracle ││  Diffuser ││  Oracle ││  Diffuser │ ░  ║ └╥┘┌─┐   \n",
       "   q_2: ┤ H ├┤2        ├┤2          ├┤2        ├┤2          ├─░──╫──╫─┤M├───\n",
       "        ├───┤│         ││           ││         ││           │ ░  ║  ║ └╥┘┌─┐\n",
       "   q_3: ┤ H ├┤3        ├┤3          ├┤3        ├┤3          ├─░──╫──╫──╫─┤M├\n",
       "        └───┘└─────────┘└───────────┘└─────────┘└───────────┘ ░  ║  ║  ║ └╥┘\n",
       "meas: 4/═════════════════════════════════════════════════════════╩══╩══╩══╩═\n",
       "                                                                 0  1  2  3 </pre>"
      ],
      "text/plain": [
       "        ┌───┐┌─────────┐┌───────────┐┌─────────┐┌───────────┐ ░ ┌─┐         \n",
       "   q_0: ┤ H ├┤0        ├┤0          ├┤0        ├┤0          ├─░─┤M├─────────\n",
       "        ├───┤│         ││           ││         ││           │ ░ └╥┘┌─┐      \n",
       "   q_1: ┤ H ├┤1        ├┤1          ├┤1        ├┤1          ├─░──╫─┤M├──────\n",
       "        ├───┤│  Oracle ││  Diffuser ││  Oracle ││  Diffuser │ ░  ║ └╥┘┌─┐   \n",
       "   q_2: ┤ H ├┤2        ├┤2          ├┤2        ├┤2          ├─░──╫──╫─┤M├───\n",
       "        ├───┤│         ││           ││         ││           │ ░  ║  ║ └╥┘┌─┐\n",
       "   q_3: ┤ H ├┤3        ├┤3          ├┤3        ├┤3          ├─░──╫──╫──╫─┤M├\n",
       "        └───┘└─────────┘└───────────┘└─────────┘└───────────┘ ░  ║  ║  ║ └╥┘\n",
       "meas: 4/═════════════════════════════════════════════════════════╩══╩══╩══╩═\n",
       "                                                                 0  1  2  3 "
      ]
     },
     "execution_count": 1,
     "metadata": {},
     "output_type": "execute_result"
    }
   ],
   "source": [
    "from qiskit.quantum_info import Operator\n",
    "from qiskit import QuantumCircuit\n",
    "\n",
    "NUMBER_OF_BITS = 4\n",
    "INDEX_OF_ALL_BITS = range(NUMBER_OF_BITS)\n",
    "NUMBER_OF_ROUNDS = 2\n",
    "\n",
    "def phaseOracle():\n",
    "    phaseoracle = QuantumCircuit(NUMBER_OF_BITS)\n",
    "    phaseoracle.x(1)\n",
    "    phaseoracle.h(1)   \n",
    "    phaseoracle.ccx(0,3,1)\n",
    "    phaseoracle.ccx(2,3,1)\n",
    "    phaseoracle.h(1)\n",
    "    phaseoracle.x(1)\n",
    "    oracle = phaseoracle.to_gate()\n",
    "    oracle.name = \"Oracle\"\n",
    "    \n",
    "    return oracle\n",
    "\n",
    "def diffuser(nqubits):\n",
    "    qc = QuantumCircuit(nqubits)\n",
    "    # Apply transformation |s> -> |00..0> (H-gates)\n",
    "    for qubit in range(nqubits):\n",
    "        qc.h(qubit)\n",
    "    # Apply transformation |00..0> -> |11..1> (X-gates)\n",
    "    for qubit in range(nqubits):\n",
    "        qc.x(qubit)\n",
    "    # Do multi-controlled-Z gate\n",
    "    qc.h(nqubits-1)\n",
    "    qc.mct(list(range(nqubits-1)), nqubits-1)  # multi-controlled-toffoli\n",
    "    qc.h(nqubits-1)\n",
    "    # Apply transformation |11..1> -> |00..0>\n",
    "    for qubit in range(nqubits):\n",
    "        qc.x(qubit)\n",
    "    # Apply transformation |00..0> -> |s>\n",
    "    for qubit in range(nqubits):\n",
    "        qc.h(qubit)\n",
    "    # We will return the diffuser as a gate\n",
    "    U_s = qc.to_gate()\n",
    "    U_s.name = \"Diffuser\"\n",
    "    return U_s\n",
    "\n",
    "# Construct the circuit    \n",
    "grover_circuit = QuantumCircuit(NUMBER_OF_BITS)\n",
    "\n",
    "for i in INDEX_OF_ALL_BITS:\n",
    "    grover_circuit.h(i)\n",
    "\n",
    "theOracle = phaseOracle()\n",
    "theDiffuser = diffuser(NUMBER_OF_BITS)\n",
    "for _ in range(NUMBER_OF_ROUNDS):\n",
    "    grover_circuit.append(theOracle, INDEX_OF_ALL_BITS)\n",
    "    grover_circuit.append(theDiffuser, INDEX_OF_ALL_BITS)\n",
    "\n",
    "grover_circuit.measure_all()\n",
    "grover_circuit.draw()"
   ]
  },
  {
   "cell_type": "code",
   "execution_count": 2,
   "metadata": {},
   "outputs": [
    {
     "data": {
      "image/png": "[encoded data removed]",
      "text/plain": [
       "<Figure size 504x360 with 1 Axes>"
      ]
     },
     "execution_count": 2,
     "metadata": {},
     "output_type": "execute_result"
    }
   ],
   "source": [
    "from qiskit import Aer, execute\n",
    "simulator = Aer.get_backend('qasm_simulator')\n",
    "counts = execute(grover_circuit, backend=simulator, shots=1000).result().get_counts(grover_circuit)\n",
    "from qiskit.visualization import plot_histogram\n",
    "plot_histogram(counts)"
   ]
  }
 ],
 "metadata": {
  "kernelspec": {
   "display_name": "Python 3",
   "language": "python",
   "name": "python3"
  },
  "language_info": {
   "codemirror_mode": {
    "name": "ipython",
    "version": 3
   },
   "file_extension": ".py",
   "mimetype": "text/x-python",
   "name": "python",
   "nbconvert_exporter": "python",
   "pygments_lexer": "ipython3",
   "version": "3.7.3"
  }
 },
 "nbformat": 4,
 "nbformat_minor": 1
}
